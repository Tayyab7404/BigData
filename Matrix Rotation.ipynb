{
 "cells": [
  {
   "cell_type": "markdown",
   "id": "a2f52ea0",
   "metadata": {},
   "source": [
    "# **Matrix Rotation**"
   ]
  },
  {
   "cell_type": "markdown",
   "id": "c946a0cf",
   "metadata": {},
   "source": [
    "**Rotate a matrix by 90 degrees in clockwise direction:**"
   ]
  },
  {
   "cell_type": "code",
   "execution_count": 11,
   "id": "944adbf2",
   "metadata": {},
   "outputs": [
    {
     "name": "stdout",
     "output_type": "stream",
     "text": [
      "Enter dimensions of the matrix: 4 4\n",
      "Enter row 1: 1 2 3 4\n",
      "Enter row 2: 5 6 7 8\n",
      "Enter row 3: 9 10 11 12\n",
      "Enter row 4: 13 14 15 16\n"
     ]
    }
   ],
   "source": [
    "r, c = [int(i) for i in input(\"Enter dimensions of the matrix: \").split()]\n",
    "\n",
    "mat = []\n",
    "\n",
    "for i in range(r):\n",
    "    col = []\n",
    "    while len(col) != c:\n",
    "        col = [int(i) for i in input(f\"Enter row {i+1}: \").split()]\n",
    "    mat += [col]"
   ]
  },
  {
   "cell_type": "code",
   "execution_count": 12,
   "id": "ecd3d9c8",
   "metadata": {},
   "outputs": [
    {
     "name": "stdout",
     "output_type": "stream",
     "text": [
      "[1, 2, 3, 4]\n",
      "[5, 6, 7, 8]\n",
      "[9, 10, 11, 12]\n",
      "[13, 14, 15, 16]\n"
     ]
    }
   ],
   "source": [
    "for i in mat:\n",
    "    print(i)"
   ]
  },
  {
   "cell_type": "code",
   "execution_count": 13,
   "id": "e04340a6",
   "metadata": {},
   "outputs": [],
   "source": [
    "n = len(mat[0])\n",
    "\n",
    "for i in range(n // 2):\n",
    "    for j in range(i, n - i - 1):\n",
    "        temp = mat[i][j]\n",
    "        mat[i][j] = mat[n - 1 - j][i]\n",
    "        mat[n - 1 - j][i] = mat[n - 1 - i][n - 1 - j]\n",
    "        mat[n - 1 - i][n - 1 - j] = mat[j][n - 1 - i]\n",
    "        mat[j][n - 1 - i] = temp"
   ]
  },
  {
   "cell_type": "code",
   "execution_count": 14,
   "id": "8e2e769a",
   "metadata": {},
   "outputs": [
    {
     "name": "stdout",
     "output_type": "stream",
     "text": [
      "[13, 9, 5, 1]\n",
      "[14, 10, 6, 2]\n",
      "[15, 11, 7, 3]\n",
      "[16, 12, 8, 4]\n"
     ]
    }
   ],
   "source": [
    "for i in mat:\n",
    "    print(i)"
   ]
  }
 ],
 "metadata": {
  "kernelspec": {
   "display_name": "Python 3 (ipykernel)",
   "language": "python",
   "name": "python3"
  },
  "language_info": {
   "codemirror_mode": {
    "name": "ipython",
    "version": 3
   },
   "file_extension": ".py",
   "mimetype": "text/x-python",
   "name": "python",
   "nbconvert_exporter": "python",
   "pygments_lexer": "ipython3",
   "version": "3.9.7"
  }
 },
 "nbformat": 4,
 "nbformat_minor": 5
}
